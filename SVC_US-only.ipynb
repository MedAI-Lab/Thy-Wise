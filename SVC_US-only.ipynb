{
 "cells": [
  {
   "cell_type": "code",
   "execution_count": 1,
   "metadata": {},
   "outputs": [],
   "source": [
    "# Importing the necessary dependency libraries\n",
    "from sklearn.svm import SVC\n",
    "import matplotlib.pyplot as plt\n",
    "import numpy as np\n",
    "import pandas as pd\n",
    "from sklearn.metrics import roc_curve, auc, roc_auc_score\n",
    "import shap\n",
    "import imblearn\n",
    "from imblearn.over_sampling import SMOTE"
   ]
  },
  {
   "cell_type": "code",
   "execution_count": 2,
   "metadata": {},
   "outputs": [],
   "source": [
    "# Define model performance test functions\n",
    "def performance_svm(xtrainup,ytrainup,xtrain,ytrain):\n",
    "    clf.fit(xtrainup,ytrainup)\n",
    "    # AUC\n",
    "    auc_scores = roc_auc_score(ytrain, clf.decision_function(xtrain))\n",
    "    print('auc = ', \"%.3f\"%auc_scores)\n",
    "    # accuracy\n",
    "    from sklearn.metrics import accuracy_score\n",
    "    accuracy = accuracy_score(ytrain, clf.predict(xtrain))*100\n",
    "    print('accuracy = ', \"%.1f\"%accuracy)\n",
    "    print('------------------------')\n",
    "    # 混淆矩阵\n",
    "    import sklearn.metrics as sm\n",
    "    from sklearn.metrics import confusion_matrix\n",
    "    matrix = confusion_matrix(ytrain, clf.predict(xtrain), labels=None, sample_weight=None)\n",
    "    print('混淆矩阵为：')\n",
    "    print(matrix)\n",
    "    (tn,fp,fn,tp) = matrix.ravel()\n",
    "    print('tn=',tn)\n",
    "    print('fp=',fp)\n",
    "    print('fn=',fn)\n",
    "    print('tp=',tp)\n",
    "    print('------------------------')\n",
    "    sensitivity = (tp/(tp+fn))*100\n",
    "    specificity = (tn/(fp+tn))*100\n",
    "    PPV=tp/(tp+fp)*100\n",
    "    NPV=tn/(fn+tn)*100\n",
    "    print(f'PPV = {\"%.1f\"%PPV}\\n({tp}/{(tp+fp)})')\n",
    "    print(f'NPV = {\"%.1f\"%NPV}\\n({tn}/{(fn+tn)})')\n",
    "    print(f'sensitivity = {\"%.1f\"%sensitivity}\\n({tp}/{(tp+fn)})')\n",
    "    print(f'specificity = {\"%.1f\"%specificity}\\n({tn}/{(fp+tn)})')"
   ]
  },
  {
   "cell_type": "code",
   "execution_count": 3,
   "metadata": {},
   "outputs": [
    {
     "name": "stderr",
     "output_type": "stream",
     "text": [
      "After over-sampling, the number of samples (3000) in class 1 will be larger than the number of samples in the majority class (class #0 -> 1582)\n"
     ]
    }
   ],
   "source": [
    "# Reading data\n",
    "train = pd.read_csv('F:/Onedrive/JIMMY/Python/Notebook/data_set/inuse/train.csv',encoding='gbk')\n",
    "test = pd.read_csv('F:/Onedrive/JIMMY/Python/Notebook/data_set/inuse/test.csv',encoding='gbk')\n",
    "validation = pd.read_csv('F:/Onedrive/JIMMY/Python/Notebook/data_set/inuse/validation_new04.csv',encoding='gbk')\n",
    "\n",
    "xtrain = train.iloc[:,9:14]\n",
    "xtest = test.iloc[:,9:14]\n",
    "xv = validation.iloc[:,9:14]\n",
    "ytrain = train.iloc[:,-1]\n",
    "ytest = test.iloc[:,-1]\n",
    "yv = validation.iloc[:,-1]\n",
    "\n",
    "# Up-sampling processing\n",
    "sm = SMOTE(sampling_strategy={1: 3000},random_state=100) \n",
    "xtrainup,ytrainup = sm.fit_resample(xtrain,ytrain)"
   ]
  },
  {
   "cell_type": "code",
   "execution_count": 4,
   "metadata": {},
   "outputs": [],
   "source": [
    "# Model Instantiation\n",
    "clf = SVC(kernel='rbf'\n",
    "           ,gamma= 0.01\n",
    "          ,C=2\n",
    "          ,cache_size=10000)"
   ]
  },
  {
   "cell_type": "code",
   "execution_count": 5,
   "metadata": {},
   "outputs": [
    {
     "name": "stdout",
     "output_type": "stream",
     "text": [
      "auc =  0.889\n",
      "accuracy =  82.1\n",
      "------------------------\n",
      "混淆矩阵为：\n",
      "[[1254  328]\n",
      " [  59  527]]\n",
      "tn= 1254\n",
      "fp= 328\n",
      "fn= 59\n",
      "tp= 527\n",
      "------------------------\n",
      "PPV = 61.6\n",
      "(527/855)\n",
      "NPV = 95.5\n",
      "(1254/1313)\n",
      "sensitivity = 89.9\n",
      "(527/586)\n",
      "specificity = 79.3\n",
      "(1254/1582)\n"
     ]
    }
   ],
   "source": [
    "# Testing the model on the training set\n",
    "performance_svm(xtrainup,ytrainup,xtrain,ytrain)"
   ]
  },
  {
   "cell_type": "code",
   "execution_count": 6,
   "metadata": {},
   "outputs": [
    {
     "name": "stdout",
     "output_type": "stream",
     "text": [
      "auc =  0.873\n",
      "accuracy =  82.7\n",
      "------------------------\n",
      "混淆矩阵为：\n",
      "[[529 137]\n",
      " [ 24 240]]\n",
      "tn= 529\n",
      "fp= 137\n",
      "fn= 24\n",
      "tp= 240\n",
      "------------------------\n",
      "PPV = 63.7\n",
      "(240/377)\n",
      "NPV = 95.7\n",
      "(529/553)\n",
      "sensitivity = 90.9\n",
      "(240/264)\n",
      "specificity = 79.4\n",
      "(529/666)\n"
     ]
    }
   ],
   "source": [
    "# Testing the model on the internal validation set\n",
    "performance_svm(xtrainup,ytrainup,xtest,ytest)"
   ]
  },
  {
   "cell_type": "code",
   "execution_count": 7,
   "metadata": {},
   "outputs": [
    {
     "name": "stdout",
     "output_type": "stream",
     "text": [
      "auc =  0.878\n",
      "accuracy =  70.6\n",
      "------------------------\n",
      "混淆矩阵为：\n",
      "[[403 229]\n",
      " [ 26 209]]\n",
      "tn= 403\n",
      "fp= 229\n",
      "fn= 26\n",
      "tp= 209\n",
      "------------------------\n",
      "PPV = 47.7\n",
      "(209/438)\n",
      "NPV = 93.9\n",
      "(403/429)\n",
      "sensitivity = 88.9\n",
      "(209/235)\n",
      "specificity = 63.8\n",
      "(403/632)\n"
     ]
    }
   ],
   "source": [
    "# Testing the model on the external validation set\n",
    "performance_svm(xtrainup,ytrainup,xv,yv)"
   ]
  }
 ],
 "metadata": {
  "kernelspec": {
   "display_name": "Python 3",
   "language": "python",
   "name": "python3"
  },
  "language_info": {
   "codemirror_mode": {
    "name": "ipython",
    "version": 3
   },
   "file_extension": ".py",
   "mimetype": "text/x-python",
   "name": "python",
   "nbconvert_exporter": "python",
   "pygments_lexer": "ipython3",
   "version": "3.8.5"
  }
 },
 "nbformat": 4,
 "nbformat_minor": 4
}
