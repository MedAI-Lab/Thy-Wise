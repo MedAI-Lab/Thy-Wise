{
 "cells": [
  {
   "cell_type": "code",
   "execution_count": 1,
   "metadata": {},
   "outputs": [],
   "source": [
    "# Importing the necessary dependency libraries\n",
    "from sklearn.svm import SVC\n",
    "import matplotlib.pyplot as plt\n",
    "import numpy as np\n",
    "import pandas as pd\n",
    "from sklearn.metrics import roc_curve, auc, roc_auc_score\n",
    "import shap\n",
    "import imblearn\n",
    "from imblearn.over_sampling import SMOTE"
   ]
  },
  {
   "cell_type": "code",
   "execution_count": 2,
   "metadata": {},
   "outputs": [],
   "source": [
    "# Define model performance test functions\n",
    "def performance_svm(xtrainup,ytrainup,xtrain,ytrain):\n",
    "    clf.fit(xtrainup,ytrainup)\n",
    "    # AUC\n",
    "    auc_scores = roc_auc_score(ytrain, clf.decision_function(xtrain))\n",
    "    print('auc = ', \"%.3f\"%auc_scores)\n",
    "    # accuracy\n",
    "    from sklearn.metrics import accuracy_score\n",
    "    accuracy = accuracy_score(ytrain, clf.predict(xtrain))*100\n",
    "    print('accuracy = ', \"%.1f\"%accuracy)\n",
    "    print('------------------------')\n",
    "    # 混淆矩阵\n",
    "    import sklearn.metrics as sm\n",
    "    from sklearn.metrics import confusion_matrix\n",
    "    matrix = confusion_matrix(ytrain, clf.predict(xtrain), labels=None, sample_weight=None)\n",
    "    print('混淆矩阵为：')\n",
    "    print(matrix)\n",
    "    (tn,fp,fn,tp) = matrix.ravel()\n",
    "    print('tn=',tn)\n",
    "    print('fp=',fp)\n",
    "    print('fn=',fn)\n",
    "    print('tp=',tp)\n",
    "    print('------------------------')\n",
    "    sensitivity = (tp/(tp+fn))*100\n",
    "    specificity = (tn/(fp+tn))*100\n",
    "    PPV=tp/(tp+fp)*100\n",
    "    NPV=tn/(fn+tn)*100\n",
    "    print(f'PPV = {\"%.1f\"%PPV}\\n({tp}/{(tp+fp)})')\n",
    "    print(f'NPV = {\"%.1f\"%NPV}\\n({tn}/{(fn+tn)})')\n",
    "    print(f'sensitivity = {\"%.1f\"%sensitivity}\\n({tp}/{(tp+fn)})')\n",
    "    print(f'specificity = {\"%.1f\"%specificity}\\n({tn}/{(fp+tn)})')"
   ]
  },
  {
   "cell_type": "code",
   "execution_count": 3,
   "metadata": {},
   "outputs": [
    {
     "name": "stderr",
     "output_type": "stream",
     "text": [
      "After over-sampling, the number of samples (2200) in class 1 will be larger than the number of samples in the majority class (class #0 -> 1582)\n"
     ]
    }
   ],
   "source": [
    "# Reading data\n",
    "train = pd.read_csv('F:/Onedrive/JIMMY/Python/Notebook/data_set/inuse/train.csv',encoding='gbk')\n",
    "test = pd.read_csv('F:/Onedrive/JIMMY/Python/Notebook/data_set/inuse/test.csv',encoding='gbk')\n",
    "\n",
    "xtrain = train.iloc[:,9:15]\n",
    "xtest = test.iloc[:,9:15]\n",
    "ytrain = train.iloc[:,-1]\n",
    "ytest = test.iloc[:,-1]\n",
    "\n",
    "# Up-sampling processing\n",
    "sm = SMOTE(sampling_strategy={1: 2200},random_state=100) \n",
    "xtrainup,ytrainup = sm.fit_resample(xtrain,ytrain)"
   ]
  },
  {
   "cell_type": "code",
   "execution_count": 4,
   "metadata": {},
   "outputs": [],
   "source": [
    "# Model Instantiation\n",
    "clf = SVC(kernel=\"rbf\"\n",
    "              ,gamma =0.07040404040404041\n",
    "              ,C=1\n",
    "              ,class_weight={1:2}\n",
    "              ,cache_size=10000)"
   ]
  },
  {
   "cell_type": "code",
   "execution_count": 5,
   "metadata": {},
   "outputs": [
    {
     "name": "stdout",
     "output_type": "stream",
     "text": [
      "auc =  0.928\n",
      "accuracy =  86.5\n",
      "------------------------\n",
      "混淆矩阵为：\n",
      "[[1330  252]\n",
      " [  41  545]]\n",
      "tn= 1330\n",
      "fp= 252\n",
      "fn= 41\n",
      "tp= 545\n",
      "------------------------\n",
      "PPV = 68.4\n",
      "(545/797)\n",
      "NPV = 97.0\n",
      "(1330/1371)\n",
      "sensitivity = 93.0\n",
      "(545/586)\n",
      "specificity = 84.1\n",
      "(1330/1582)\n"
     ]
    }
   ],
   "source": [
    "# Testing the model on the training set\n",
    "performance_svm(xtrainup,ytrainup,xtrain,ytrain)"
   ]
  },
  {
   "cell_type": "code",
   "execution_count": 6,
   "metadata": {},
   "outputs": [
    {
     "name": "stdout",
     "output_type": "stream",
     "text": [
      "auc =  0.921\n",
      "accuracy =  86.1\n",
      "------------------------\n",
      "混淆矩阵为：\n",
      "[[561 105]\n",
      " [ 24 240]]\n",
      "tn= 561\n",
      "fp= 105\n",
      "fn= 24\n",
      "tp= 240\n",
      "------------------------\n",
      "PPV = 69.6\n",
      "(240/345)\n",
      "NPV = 95.9\n",
      "(561/585)\n",
      "sensitivity = 90.9\n",
      "(240/264)\n",
      "specificity = 84.2\n",
      "(561/666)\n"
     ]
    }
   ],
   "source": [
    "# Testing the model on the internal validation set\n",
    "performance_svm(xtrainup,ytrainup,xtest,ytest)"
   ]
  },
  {
   "cell_type": "code",
   "execution_count": null,
   "metadata": {},
   "outputs": [],
   "source": []
  }
 ],
 "metadata": {
  "kernelspec": {
   "display_name": "Python 3",
   "language": "python",
   "name": "python3"
  },
  "language_info": {
   "codemirror_mode": {
    "name": "ipython",
    "version": 3
   },
   "file_extension": ".py",
   "mimetype": "text/x-python",
   "name": "python",
   "nbconvert_exporter": "python",
   "pygments_lexer": "ipython3",
   "version": "3.8.5"
  }
 },
 "nbformat": 4,
 "nbformat_minor": 4
}
